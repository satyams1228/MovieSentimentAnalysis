{
 "cells": [
  {
   "cell_type": "code",
   "execution_count": 1,
   "metadata": {},
   "outputs": [],
   "source": [
    "import pandas as pd\n",
    "from sklearn.feature_extraction.text import CountVectorizer\n",
    "from sklearn.naive_bayes import MultinomialNB\n",
    "import pickle\n",
    "\n",
    "# Load the train data\n",
    "train_data = pd.read_csv(\"Train.csv\", usecols=['review', 'label'])\n",
    "\n",
    "# Initialize the CountVectorizer and fit it to the train data\n",
    "train_reviews = train_data['review'].tolist()\n",
    "vectorizer = CountVectorizer()\n",
    "review_features = vectorizer.fit_transform(train_data['review'])\n",
    "\n",
    "# Train a Multinomial Naive Bayes model on the review features\n",
    "model = MultinomialNB()\n",
    "model.fit(review_features, train_data['label'])\n",
    "\n",
    "# Save the model to a pickle file\n",
    "with open(\"movie_reviews_model.pkl\", \"wb\") as file:\n",
    "    pickle.dump(model, file)\n",
    "with open(\"movie_reviews_vectorizer.pkl\", \"wb\") as file:\n",
    "    pickle.dump(vectorizer, file)\n",
    "\n",
    "# Load the pickle file\n",
    "with open(\"movie_reviews_model.pkl\", \"rb\") as file:\n",
    "    model = pickle.load(file)\n",
    "\n",
    "# Initialize the vectorizer for the prediction\n",
    "vectorizer = CountVectorizer(vocabulary=vectorizer.vocabulary_)\n",
    "\n",
    "# Make a prediction on a new review\n",
    "def predict_sentiment(review):\n",
    "    review_features = vectorizer.transform([review])\n",
    "    sentiment = model.predict(review_features)[0]\n",
    "    return sentiment\n"
   ]
  },
  {
   "cell_type": "code",
   "execution_count": null,
   "metadata": {},
   "outputs": [],
   "source": []
  }
 ],
 "metadata": {
  "kernelspec": {
   "display_name": "tf_gpu",
   "language": "python",
   "name": "python3"
  },
  "language_info": {
   "codemirror_mode": {
    "name": "ipython",
    "version": 3
   },
   "file_extension": ".py",
   "mimetype": "text/x-python",
   "name": "python",
   "nbconvert_exporter": "python",
   "pygments_lexer": "ipython3",
   "version": "3.9.0"
  },
  "orig_nbformat": 4,
  "vscode": {
   "interpreter": {
    "hash": "c7665c51f312e1323c702b5363dd76dbadc506c24f1a479533b620de44996f7e"
   }
  }
 },
 "nbformat": 4,
 "nbformat_minor": 2
}
